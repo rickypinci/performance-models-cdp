{
 "cells": [
  {
   "cell_type": "code",
   "execution_count": 2,
   "metadata": {},
   "outputs": [],
   "source": [
    "import pandas as pd\n",
    "import matplotlib.pyplot as plt"
   ]
  },
  {
   "cell_type": "code",
   "execution_count": 3,
   "metadata": {},
   "outputs": [],
   "source": [
    "plt.rcParams['text.usetex'] = True\n",
    "plt.rcParams['font.family'] = 'serif'\n",
    "plt.rcParams['font.serif'] = ['Times New Roman'] + plt.rcParams['font.serif']\n",
    "plt.rcParams['font.size'] = 18"
   ]
  },
  {
   "cell_type": "code",
   "execution_count": 4,
   "metadata": {},
   "outputs": [],
   "source": [
    "dfP = pd.read_csv('./separated_physical/sep_phy.csv')\n",
    "dfM = pd.read_csv('./separated_models/sep_mod.csv')"
   ]
  },
  {
   "cell_type": "code",
   "execution_count": 5,
   "metadata": {},
   "outputs": [
    {
     "name": "stderr",
     "output_type": "stream",
     "text": [
      "/tmp/ipykernel_431057/1558692752.py:11: SettingWithCopyWarning: \n",
      "A value is trying to be set on a copy of a slice from a DataFrame\n",
      "\n",
      "See the caveats in the documentation: https://pandas.pydata.org/pandas-docs/stable/user_guide/indexing.html#returning-a-view-versus-a-copy\n",
      "  dfPlotP.sort_values(by='Z_write', inplace=True)\n",
      "/tmp/ipykernel_431057/1558692752.py:16: SettingWithCopyWarning: \n",
      "A value is trying to be set on a copy of a slice from a DataFrame\n",
      "\n",
      "See the caveats in the documentation: https://pandas.pydata.org/pandas-docs/stable/user_guide/indexing.html#returning-a-view-versus-a-copy\n",
      "  dfPlotM.sort_values(by='Z_write', inplace=True)\n"
     ]
    },
    {
     "data": {
      "image/png": "[encoded data removed]",
      "text/plain": [
       "<Figure size 432x288 with 1 Axes>"
      ]
     },
     "metadata": {
      "needs_background": "light"
     },
     "output_type": "display_data"
    },
    {
     "data": {
      "image/png": "[encoded data removed]",
      "text/plain": [
       "<Figure size 432x288 with 1 Axes>"
      ]
     },
     "metadata": {
      "needs_background": "light"
     },
     "output_type": "display_data"
    },
    {
     "data": {
      "image/png": "[encoded data removed]",
      "text/plain": [
       "<Figure size 432x288 with 1 Axes>"
      ]
     },
     "metadata": {
      "needs_background": "light"
     },
     "output_type": "display_data"
    }
   ],
   "source": [
    "SAVEFIG = True\n",
    "SAVEPATH = '../Images/CQRS/'\n",
    "\n",
    "Nread = 90\n",
    "Nwrite = 10\n",
    "Zread = 0.1\n",
    "\n",
    "dfP['Z_read'] = 1 / dfP['r_Z_read']\n",
    "dfP['Z_write'] = 1 / dfP['r_Z_write']\n",
    "dfPlotP = dfP[(dfP['N_read']==Nread) & (dfP['N_write']==Nwrite) & (dfP['Z_read']==Zread)]\n",
    "dfPlotP.sort_values(by='Z_write', inplace=True)\n",
    "\n",
    "dfM['Z_read'] = 1 / dfM['r_Z_read']\n",
    "dfM['Z_write'] = 1 / dfM['r_Z_write']\n",
    "dfPlotM = dfM[(dfM['N_read']==Nread) & (dfM['N_write']==Nwrite) & (dfM['Z_read']==Zread)]\n",
    "dfPlotM.sort_values(by='Z_write', inplace=True)\n",
    "\n",
    "\n",
    "plt.plot(dfPlotP['Z_write'], dfPlotP['R0'], label='HW')\n",
    "plt.fill_between(dfPlotP['Z_write'], dfPlotP['R0_low'], dfPlotP['R0_up'], alpha=0.3)\n",
    "plt.plot(dfPlotM['Z_write'], dfPlotM['R0'], label='SW')\n",
    "plt.fill_between(dfPlotM['Z_write'], dfPlotM['R0_low'], dfPlotM['R0_up'], alpha=0.3)\n",
    "plt.xlabel(r'$Z_{write}$')\n",
    "plt.ylabel('System Latency [s]')\n",
    "plt.legend()\n",
    "if SAVEFIG:\n",
    "    plt.tight_layout()\n",
    "    plt.savefig(SAVEPATH + 'respTime.pdf')\n",
    "plt.show()\n",
    "\n",
    "plt.plot(dfPlotP['Z_write'], dfPlotP['R0_read'], label='HW')\n",
    "plt.fill_between(dfPlotP['Z_write'], dfPlotP['R0_read_low'], dfPlotP['R0_read_up'], alpha=0.3)\n",
    "plt.plot(dfPlotM['Z_write'], dfPlotM['R0_read'], label='SW')\n",
    "plt.fill_between(dfPlotM['Z_write'], dfPlotM['R0_read_low'], dfPlotM['R0_read_up'], alpha=0.3)\n",
    "plt.xlabel(r'$Z_{write}$')\n",
    "plt.ylabel('Read System Latency [s]')\n",
    "plt.legend()\n",
    "if SAVEFIG:\n",
    "    plt.tight_layout()\n",
    "    plt.savefig(SAVEPATH + 'readRespTime.pdf')\n",
    "plt.show()\n",
    "\n",
    "plt.plot(dfPlotP['Z_write'], dfPlotP['R0_write'], label='HW')\n",
    "plt.fill_between(dfPlotP['Z_write'], dfPlotP['R0_write_low'], dfPlotP['R0_write_up'], alpha=0.3)\n",
    "plt.plot(dfPlotM['Z_write'], dfPlotM['R0_write'], label='SW')\n",
    "plt.fill_between(dfPlotM['Z_write'], dfPlotM['R0_write_low'], dfPlotM['R0_write_up'], alpha=0.3)\n",
    "plt.xlabel(r'$Z_{write}$')\n",
    "plt.ylabel('Write System Latency [s]')\n",
    "plt.legend()\n",
    "if SAVEFIG:\n",
    "    plt.tight_layout()\n",
    "    plt.savefig(SAVEPATH + 'writeRespTime.pdf')\n",
    "plt.show()\n",
    "\n",
    "plt.plot(dfPlotP['Z_write'], dfPlotP['U_DBread'], label='HW - DB read')\n",
    "plt.fill_between(dfPlotP['Z_write'], dfPlotP['U_DBread_low'], dfPlotP['U_DBread_up'], alpha=0.3)\n",
    "plt.plot(dfPlotP['Z_write'], dfPlotP['U_DBwrite'], label='HW - DB write')\n",
    "plt.fill_between(dfPlotP['Z_write'], dfPlotP['U_DBwrite_low'], dfPlotP['U_DBwrite_up'], alpha=0.3)\n",
    "plt.plot(dfPlotM['Z_write'], dfPlotM['U_DBread'] + dfPlotM['U_DBwrite'], label='SW - DB')\n",
    "plt.fill_between(dfPlotM['Z_write'], dfPlotM['U_DBread_low'] + dfPlotM['U_DBwrite_low'], dfPlotM['U_DBread_up'] + dfPlotM['U_DBwrite_up'], alpha=0.3)\n",
    "plt.xlabel(r'$Z_{write}$')\n",
    "plt.ylabel('Utilization [%]')\n",
    "plt.legend()\n",
    "if SAVEFIG:\n",
    "    plt.tight_layout()\n",
    "    plt.savefig(SAVEPATH + 'utilization.pdf')\n",
    "plt.show()"
   ]
  },
  {
   "cell_type": "code",
   "execution_count": null,
   "metadata": {},
   "outputs": [],
   "source": []
  }
 ],
 "metadata": {
  "kernelspec": {
   "display_name": "Python 3 (ipykernel)",
   "language": "python",
   "name": "python3"
  },
  "language_info": {
   "codemirror_mode": {
    "name": "ipython",
    "version": 3
   },
   "file_extension": ".py",
   "mimetype": "text/x-python",
   "name": "python",
   "nbconvert_exporter": "python",
   "pygments_lexer": "ipython3",
   "version": "3.8.10"
  }
 },
 "nbformat": 4,
 "nbformat_minor": 4
}
