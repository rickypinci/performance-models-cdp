{
 "cells": [
  {
   "cell_type": "code",
   "execution_count": 22,
   "metadata": {},
   "outputs": [],
   "source": [
    "import pandas as pd\n",
    "import numpy as np\n",
    "import matplotlib.pyplot as plt"
   ]
  },
  {
   "cell_type": "code",
   "execution_count": 18,
   "metadata": {},
   "outputs": [
    {
     "name": "stdout",
     "output_type": "stream",
     "text": [
      "Avg. time = 21.584 seconds\n",
      "Min. time = 3.315 seconds\n",
      "Max. time = 250.526 seconds\n"
     ]
    }
   ],
   "source": [
    "logs_path = [\n",
    "    './Anti_Corruption_Layer/multi_N25.csv',\n",
    "    './Backends_for_Frontends/multi_N100.csv',\n",
    "    './CQRS/separated_models/sep_mod.csv',\n",
    "    './CQRS/separated_physical/sep_phy.csv',\n",
    "    './Gateway_Aggregation/multi_N25.csv',\n",
    "    './Gateway_Offloading/multi_N25.csv',\n",
    "    './Pipes_and_Filters/separated/Core1_N50.csv',\n",
    "    './Pipes_and_Filters/mix_joint/Core1_N50.csv',\n",
    "    './Pipes_and_Filters/mix_joint/Core2_N50.csv',\n",
    "    './Static_Content_Hosting/multi_N50.csv'\n",
    "]\n",
    "\n",
    "sim_times = []\n",
    "for df_path in logs_path:\n",
    "    df = pd.read_csv(df_path)\n",
    "    sim_times += list(df['sim_time_sec'].values)\n",
    "    \n",
    "print('Avg. time = {:.3f} seconds'.format(np.mean(sim_times)))\n",
    "print('Min. time = {:.3f} seconds'.format(np.min(sim_times)))\n",
    "print('Max. time = {:.3f} seconds'.format(np.max(sim_times)))"
   ]
  },
  {
   "cell_type": "code",
   "execution_count": 45,
   "metadata": {},
   "outputs": [
    {
     "data": {
      "image/png": "[encoded data removed]",
      "text/plain": [
       "<Figure size 432x288 with 1 Axes>"
      ]
     },
     "metadata": {
      "needs_background": "light"
     },
     "output_type": "display_data"
    },
    {
     "data": {
      "image/png": "[encoded data removed]",
      "text/plain": [
       "<Figure size 432x288 with 1 Axes>"
      ]
     },
     "metadata": {
      "needs_background": "light"
     },
     "output_type": "display_data"
    }
   ],
   "source": [
    "plt.hist(sim_times, bins=200, density=True, cumulative=False, histtype='step')\n",
    "plt.xlabel('Simulation Time [sec]')\n",
    "plt.ylabel('PDF')\n",
    "plt.show()\n",
    "\n",
    "plt.hist(sim_times, bins=1000, density=True, cumulative=True, histtype='step')\n",
    "plt.xlabel('Simulation Time [sec]')\n",
    "plt.ylabel('CDF')\n",
    "plt.show()"
   ]
  },
  {
   "cell_type": "code",
   "execution_count": 33,
   "metadata": {},
   "outputs": [
    {
     "data": {
      "text/plain": [
       "16.211078643798828"
      ]
     },
     "execution_count": 33,
     "metadata": {},
     "output_type": "execute_result"
    }
   ],
   "source": [
    "np.quantile(sim_times, 0.5)"
   ]
  },
  {
   "cell_type": "code",
   "execution_count": 40,
   "metadata": {},
   "outputs": [
    {
     "data": {
      "text/plain": [
       "0.06470811900994489"
      ]
     },
     "execution_count": 40,
     "metadata": {},
     "output_type": "execute_result"
    }
   ],
   "source": [
    "(np.quantile(sim_times, 0.5)/max(sim_times))"
   ]
  },
  {
   "cell_type": "code",
   "execution_count": null,
   "metadata": {},
   "outputs": [],
   "source": []
  }
 ],
 "metadata": {
  "kernelspec": {
   "display_name": "Python 3 (ipykernel)",
   "language": "python",
   "name": "python3"
  },
  "language_info": {
   "codemirror_mode": {
    "name": "ipython",
    "version": 3
   },
   "file_extension": ".py",
   "mimetype": "text/x-python",
   "name": "python",
   "nbconvert_exporter": "python",
   "pygments_lexer": "ipython3",
   "version": "3.8.10"
  }
 },
 "nbformat": 4,
 "nbformat_minor": 4
}
